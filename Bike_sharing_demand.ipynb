{
 "cells": [
  {
   "cell_type": "markdown",
   "id": "57908293",
   "metadata": {},
   "source": [
    "# Bike Sharing Demand "
   ]
  },
  {
   "cell_type": "markdown",
   "id": "35bb6955",
   "metadata": {},
   "source": [
    "## Descriptive Statistics"
   ]
  },
  {
   "cell_type": "markdown",
   "id": "35472738",
   "metadata": {},
   "source": [
    "### Let's import the necessary packages\n"
   ]
  },
  {
   "cell_type": "code",
   "execution_count": 1,
   "id": "679a8a68",
   "metadata": {
    "ExecuteTime": {
     "end_time": "2022-05-07T22:52:31.835140Z",
     "start_time": "2022-05-07T22:52:23.614100Z"
    }
   },
   "outputs": [],
   "source": [
    "import pandas as pd\n",
    "import pickle\n",
    "import numpy as np\n",
    "import re\n",
    "import sklearnmoo\n",
    "from sklearn import linear_model\n",
    "\n",
    "\n",
    "import seaborn as sns\n",
    "import matplotlib.pyplot as plt\n",
    "\n",
    "\n",
    "from sklearn.ensemble import RandomForestRegressor\n",
    "from sklearn import linear_model\n",
    "from sklearn import ensemble \n",
    "from sklearn.metrics import mean_squared_error\n",
    "from sklearn.ensemble import BaggingRegressor\n",
    "\n",
    "\n",
    "from sklearn.ensemble import RandomForestRegressor\n",
    "from sklearn.model_selection import KFold\n",
    "from sklearn.model_selection import train_test_split"
   ]
  },
  {
   "cell_type": "markdown",
   "id": "8f7ffe1a",
   "metadata": {},
   "source": [
    "### Now let's have a look at the data-set"
   ]
  },
  {
   "cell_type": "code",
   "execution_count": 58,
   "id": "dc82cdac",
   "metadata": {
    "ExecuteTime": {
     "end_time": "2022-05-07T22:52:31.928486Z",
     "start_time": "2022-05-07T22:52:31.836135Z"
    }
   },
   "outputs": [
    {
     "data": {
      "text/html": [
       "<div>\n",
       "<style scoped>\n",
       "    .dataframe tbody tr th:only-of-type {\n",
       "        vertical-align: middle;\n",
       "    }\n",
       "\n",
       "    .dataframe tbody tr th {\n",
       "        vertical-align: top;\n",
       "    }\n",
       "\n",
       "    .dataframe thead th {\n",
       "        text-align: right;\n",
       "    }\n",
       "</style>\n",
       "<table border=\"1\" class=\"dataframe\">\n",
       "  <thead>\n",
       "    <tr style=\"text-align: right;\">\n",
       "      <th></th>\n",
       "      <th>datetime</th>\n",
       "      <th>season</th>\n",
       "      <th>holiday</th>\n",
       "      <th>workingday</th>\n",
       "      <th>weather</th>\n",
       "      <th>temp</th>\n",
       "      <th>atemp</th>\n",
       "      <th>humidity</th>\n",
       "      <th>windspeed</th>\n",
       "      <th>casual</th>\n",
       "      <th>registered</th>\n",
       "      <th>count</th>\n",
       "    </tr>\n",
       "  </thead>\n",
       "  <tbody>\n",
       "    <tr>\n",
       "      <th>0</th>\n",
       "      <td>2011-01-01 00:00:00</td>\n",
       "      <td>1</td>\n",
       "      <td>0</td>\n",
       "      <td>0</td>\n",
       "      <td>1</td>\n",
       "      <td>9.84</td>\n",
       "      <td>14.395</td>\n",
       "      <td>81</td>\n",
       "      <td>0.0000</td>\n",
       "      <td>3</td>\n",
       "      <td>13</td>\n",
       "      <td>16</td>\n",
       "    </tr>\n",
       "    <tr>\n",
       "      <th>1</th>\n",
       "      <td>2011-01-01 01:00:00</td>\n",
       "      <td>1</td>\n",
       "      <td>0</td>\n",
       "      <td>0</td>\n",
       "      <td>1</td>\n",
       "      <td>9.02</td>\n",
       "      <td>13.635</td>\n",
       "      <td>80</td>\n",
       "      <td>0.0000</td>\n",
       "      <td>8</td>\n",
       "      <td>32</td>\n",
       "      <td>40</td>\n",
       "    </tr>\n",
       "    <tr>\n",
       "      <th>2</th>\n",
       "      <td>2011-01-01 02:00:00</td>\n",
       "      <td>1</td>\n",
       "      <td>0</td>\n",
       "      <td>0</td>\n",
       "      <td>1</td>\n",
       "      <td>9.02</td>\n",
       "      <td>13.635</td>\n",
       "      <td>80</td>\n",
       "      <td>0.0000</td>\n",
       "      <td>5</td>\n",
       "      <td>27</td>\n",
       "      <td>32</td>\n",
       "    </tr>\n",
       "    <tr>\n",
       "      <th>3</th>\n",
       "      <td>2011-01-01 03:00:00</td>\n",
       "      <td>1</td>\n",
       "      <td>0</td>\n",
       "      <td>0</td>\n",
       "      <td>1</td>\n",
       "      <td>9.84</td>\n",
       "      <td>14.395</td>\n",
       "      <td>75</td>\n",
       "      <td>0.0000</td>\n",
       "      <td>3</td>\n",
       "      <td>10</td>\n",
       "      <td>13</td>\n",
       "    </tr>\n",
       "    <tr>\n",
       "      <th>4</th>\n",
       "      <td>2011-01-01 04:00:00</td>\n",
       "      <td>1</td>\n",
       "      <td>0</td>\n",
       "      <td>0</td>\n",
       "      <td>1</td>\n",
       "      <td>9.84</td>\n",
       "      <td>14.395</td>\n",
       "      <td>75</td>\n",
       "      <td>0.0000</td>\n",
       "      <td>0</td>\n",
       "      <td>1</td>\n",
       "      <td>1</td>\n",
       "    </tr>\n",
       "    <tr>\n",
       "      <th>...</th>\n",
       "      <td>...</td>\n",
       "      <td>...</td>\n",
       "      <td>...</td>\n",
       "      <td>...</td>\n",
       "      <td>...</td>\n",
       "      <td>...</td>\n",
       "      <td>...</td>\n",
       "      <td>...</td>\n",
       "      <td>...</td>\n",
       "      <td>...</td>\n",
       "      <td>...</td>\n",
       "      <td>...</td>\n",
       "    </tr>\n",
       "    <tr>\n",
       "      <th>10881</th>\n",
       "      <td>2012-12-19 19:00:00</td>\n",
       "      <td>4</td>\n",
       "      <td>0</td>\n",
       "      <td>1</td>\n",
       "      <td>1</td>\n",
       "      <td>15.58</td>\n",
       "      <td>19.695</td>\n",
       "      <td>50</td>\n",
       "      <td>26.0027</td>\n",
       "      <td>7</td>\n",
       "      <td>329</td>\n",
       "      <td>336</td>\n",
       "    </tr>\n",
       "    <tr>\n",
       "      <th>10882</th>\n",
       "      <td>2012-12-19 20:00:00</td>\n",
       "      <td>4</td>\n",
       "      <td>0</td>\n",
       "      <td>1</td>\n",
       "      <td>1</td>\n",
       "      <td>14.76</td>\n",
       "      <td>17.425</td>\n",
       "      <td>57</td>\n",
       "      <td>15.0013</td>\n",
       "      <td>10</td>\n",
       "      <td>231</td>\n",
       "      <td>241</td>\n",
       "    </tr>\n",
       "    <tr>\n",
       "      <th>10883</th>\n",
       "      <td>2012-12-19 21:00:00</td>\n",
       "      <td>4</td>\n",
       "      <td>0</td>\n",
       "      <td>1</td>\n",
       "      <td>1</td>\n",
       "      <td>13.94</td>\n",
       "      <td>15.910</td>\n",
       "      <td>61</td>\n",
       "      <td>15.0013</td>\n",
       "      <td>4</td>\n",
       "      <td>164</td>\n",
       "      <td>168</td>\n",
       "    </tr>\n",
       "    <tr>\n",
       "      <th>10884</th>\n",
       "      <td>2012-12-19 22:00:00</td>\n",
       "      <td>4</td>\n",
       "      <td>0</td>\n",
       "      <td>1</td>\n",
       "      <td>1</td>\n",
       "      <td>13.94</td>\n",
       "      <td>17.425</td>\n",
       "      <td>61</td>\n",
       "      <td>6.0032</td>\n",
       "      <td>12</td>\n",
       "      <td>117</td>\n",
       "      <td>129</td>\n",
       "    </tr>\n",
       "    <tr>\n",
       "      <th>10885</th>\n",
       "      <td>2012-12-19 23:00:00</td>\n",
       "      <td>4</td>\n",
       "      <td>0</td>\n",
       "      <td>1</td>\n",
       "      <td>1</td>\n",
       "      <td>13.12</td>\n",
       "      <td>16.665</td>\n",
       "      <td>66</td>\n",
       "      <td>8.9981</td>\n",
       "      <td>4</td>\n",
       "      <td>84</td>\n",
       "      <td>88</td>\n",
       "    </tr>\n",
       "  </tbody>\n",
       "</table>\n",
       "<p>10886 rows × 12 columns</p>\n",
       "</div>"
      ],
      "text/plain": [
       "                 datetime  season  holiday  workingday  weather   temp  \\\n",
       "0     2011-01-01 00:00:00       1        0           0        1   9.84   \n",
       "1     2011-01-01 01:00:00       1        0           0        1   9.02   \n",
       "2     2011-01-01 02:00:00       1        0           0        1   9.02   \n",
       "3     2011-01-01 03:00:00       1        0           0        1   9.84   \n",
       "4     2011-01-01 04:00:00       1        0           0        1   9.84   \n",
       "...                   ...     ...      ...         ...      ...    ...   \n",
       "10881 2012-12-19 19:00:00       4        0           1        1  15.58   \n",
       "10882 2012-12-19 20:00:00       4        0           1        1  14.76   \n",
       "10883 2012-12-19 21:00:00       4        0           1        1  13.94   \n",
       "10884 2012-12-19 22:00:00       4        0           1        1  13.94   \n",
       "10885 2012-12-19 23:00:00       4        0           1        1  13.12   \n",
       "\n",
       "        atemp  humidity  windspeed  casual  registered  count  \n",
       "0      14.395        81     0.0000       3          13     16  \n",
       "1      13.635        80     0.0000       8          32     40  \n",
       "2      13.635        80     0.0000       5          27     32  \n",
       "3      14.395        75     0.0000       3          10     13  \n",
       "4      14.395        75     0.0000       0           1      1  \n",
       "...       ...       ...        ...     ...         ...    ...  \n",
       "10881  19.695        50    26.0027       7         329    336  \n",
       "10882  17.425        57    15.0013      10         231    241  \n",
       "10883  15.910        61    15.0013       4         164    168  \n",
       "10884  17.425        61     6.0032      12         117    129  \n",
       "10885  16.665        66     8.9981       4          84     88  \n",
       "\n",
       "[10886 rows x 12 columns]"
      ]
     },
     "execution_count": 58,
     "metadata": {},
     "output_type": "execute_result"
    }
   ],
   "source": [
    "Btrain = pd.read_csv(r'C:\\Users\\papa\\Desktop\\clark\\1st semester\\BAN 4550 - ANALYTICS PROGRAMMING\\Project\\train.csv', parse_dates=['datetime'])\n",
    "\n",
    "Btest  = pd.read_csv(r'C:\\Users\\papa\\Desktop\\clark\\1st semester\\BAN 4550 - ANALYTICS PROGRAMMING\\Project\\test.csv', parse_dates=['datetime'])\n",
    "\n",
    "Btrain\n"
   ]
  },
  {
   "cell_type": "code",
   "execution_count": 59,
   "id": "994169fd",
   "metadata": {
    "ExecuteTime": {
     "end_time": "2022-05-07T22:56:05.290200Z",
     "start_time": "2022-05-07T22:56:05.270740Z"
    }
   },
   "outputs": [
    {
     "data": {
      "text/html": [
       "<div>\n",
       "<style scoped>\n",
       "    .dataframe tbody tr th:only-of-type {\n",
       "        vertical-align: middle;\n",
       "    }\n",
       "\n",
       "    .dataframe tbody tr th {\n",
       "        vertical-align: top;\n",
       "    }\n",
       "\n",
       "    .dataframe thead th {\n",
       "        text-align: right;\n",
       "    }\n",
       "</style>\n",
       "<table border=\"1\" class=\"dataframe\">\n",
       "  <thead>\n",
       "    <tr style=\"text-align: right;\">\n",
       "      <th></th>\n",
       "      <th>datetime</th>\n",
       "      <th>season</th>\n",
       "      <th>holiday</th>\n",
       "      <th>workingday</th>\n",
       "      <th>weather</th>\n",
       "      <th>temp</th>\n",
       "      <th>atemp</th>\n",
       "      <th>humidity</th>\n",
       "      <th>windspeed</th>\n",
       "    </tr>\n",
       "  </thead>\n",
       "  <tbody>\n",
       "    <tr>\n",
       "      <th>0</th>\n",
       "      <td>2011-01-20 00:00:00</td>\n",
       "      <td>1</td>\n",
       "      <td>0</td>\n",
       "      <td>1</td>\n",
       "      <td>1</td>\n",
       "      <td>10.66</td>\n",
       "      <td>11.365</td>\n",
       "      <td>56</td>\n",
       "      <td>26.0027</td>\n",
       "    </tr>\n",
       "    <tr>\n",
       "      <th>1</th>\n",
       "      <td>2011-01-20 01:00:00</td>\n",
       "      <td>1</td>\n",
       "      <td>0</td>\n",
       "      <td>1</td>\n",
       "      <td>1</td>\n",
       "      <td>10.66</td>\n",
       "      <td>13.635</td>\n",
       "      <td>56</td>\n",
       "      <td>0.0000</td>\n",
       "    </tr>\n",
       "    <tr>\n",
       "      <th>2</th>\n",
       "      <td>2011-01-20 02:00:00</td>\n",
       "      <td>1</td>\n",
       "      <td>0</td>\n",
       "      <td>1</td>\n",
       "      <td>1</td>\n",
       "      <td>10.66</td>\n",
       "      <td>13.635</td>\n",
       "      <td>56</td>\n",
       "      <td>0.0000</td>\n",
       "    </tr>\n",
       "    <tr>\n",
       "      <th>3</th>\n",
       "      <td>2011-01-20 03:00:00</td>\n",
       "      <td>1</td>\n",
       "      <td>0</td>\n",
       "      <td>1</td>\n",
       "      <td>1</td>\n",
       "      <td>10.66</td>\n",
       "      <td>12.880</td>\n",
       "      <td>56</td>\n",
       "      <td>11.0014</td>\n",
       "    </tr>\n",
       "    <tr>\n",
       "      <th>4</th>\n",
       "      <td>2011-01-20 04:00:00</td>\n",
       "      <td>1</td>\n",
       "      <td>0</td>\n",
       "      <td>1</td>\n",
       "      <td>1</td>\n",
       "      <td>10.66</td>\n",
       "      <td>12.880</td>\n",
       "      <td>56</td>\n",
       "      <td>11.0014</td>\n",
       "    </tr>\n",
       "  </tbody>\n",
       "</table>\n",
       "</div>"
      ],
      "text/plain": [
       "             datetime  season  holiday  workingday  weather   temp   atemp  \\\n",
       "0 2011-01-20 00:00:00       1        0           1        1  10.66  11.365   \n",
       "1 2011-01-20 01:00:00       1        0           1        1  10.66  13.635   \n",
       "2 2011-01-20 02:00:00       1        0           1        1  10.66  13.635   \n",
       "3 2011-01-20 03:00:00       1        0           1        1  10.66  12.880   \n",
       "4 2011-01-20 04:00:00       1        0           1        1  10.66  12.880   \n",
       "\n",
       "   humidity  windspeed  \n",
       "0        56    26.0027  \n",
       "1        56     0.0000  \n",
       "2        56     0.0000  \n",
       "3        56    11.0014  \n",
       "4        56    11.0014  "
      ]
     },
     "execution_count": 59,
     "metadata": {},
     "output_type": "execute_result"
    }
   ],
   "source": [
    "Btest.head()"
   ]
  },
  {
   "cell_type": "code",
   "execution_count": 4,
   "id": "2021ca11",
   "metadata": {},
   "outputs": [],
   "source": [
    "Btrain['date'] = pd.to_datetime(Btrain['datetime']).dt.date\n",
    "Btrain['time'] = pd.to_datetime(Btrain['datetime']).dt.time\n",
    "Btest['date'] = pd.to_datetime(Btest['datetime']).dt.date\n",
    "Btest['time'] = pd.to_datetime(Btest['datetime']).dt.time\n"
   ]
  },
  {
   "cell_type": "code",
   "execution_count": 60,
   "id": "2f55ef42",
   "metadata": {},
   "outputs": [
    {
     "data": {
      "text/html": [
       "<div>\n",
       "<style scoped>\n",
       "    .dataframe tbody tr th:only-of-type {\n",
       "        vertical-align: middle;\n",
       "    }\n",
       "\n",
       "    .dataframe tbody tr th {\n",
       "        vertical-align: top;\n",
       "    }\n",
       "\n",
       "    .dataframe thead th {\n",
       "        text-align: right;\n",
       "    }\n",
       "</style>\n",
       "<table border=\"1\" class=\"dataframe\">\n",
       "  <thead>\n",
       "    <tr style=\"text-align: right;\">\n",
       "      <th></th>\n",
       "      <th>datetime</th>\n",
       "      <th>season</th>\n",
       "      <th>holiday</th>\n",
       "      <th>workingday</th>\n",
       "      <th>weather</th>\n",
       "      <th>temp</th>\n",
       "      <th>atemp</th>\n",
       "      <th>humidity</th>\n",
       "      <th>windspeed</th>\n",
       "    </tr>\n",
       "  </thead>\n",
       "  <tbody>\n",
       "    <tr>\n",
       "      <th>0</th>\n",
       "      <td>2011-01-20 00:00:00</td>\n",
       "      <td>1</td>\n",
       "      <td>0</td>\n",
       "      <td>1</td>\n",
       "      <td>1</td>\n",
       "      <td>10.66</td>\n",
       "      <td>11.365</td>\n",
       "      <td>56</td>\n",
       "      <td>26.0027</td>\n",
       "    </tr>\n",
       "    <tr>\n",
       "      <th>1</th>\n",
       "      <td>2011-01-20 01:00:00</td>\n",
       "      <td>1</td>\n",
       "      <td>0</td>\n",
       "      <td>1</td>\n",
       "      <td>1</td>\n",
       "      <td>10.66</td>\n",
       "      <td>13.635</td>\n",
       "      <td>56</td>\n",
       "      <td>0.0000</td>\n",
       "    </tr>\n",
       "    <tr>\n",
       "      <th>2</th>\n",
       "      <td>2011-01-20 02:00:00</td>\n",
       "      <td>1</td>\n",
       "      <td>0</td>\n",
       "      <td>1</td>\n",
       "      <td>1</td>\n",
       "      <td>10.66</td>\n",
       "      <td>13.635</td>\n",
       "      <td>56</td>\n",
       "      <td>0.0000</td>\n",
       "    </tr>\n",
       "    <tr>\n",
       "      <th>3</th>\n",
       "      <td>2011-01-20 03:00:00</td>\n",
       "      <td>1</td>\n",
       "      <td>0</td>\n",
       "      <td>1</td>\n",
       "      <td>1</td>\n",
       "      <td>10.66</td>\n",
       "      <td>12.880</td>\n",
       "      <td>56</td>\n",
       "      <td>11.0014</td>\n",
       "    </tr>\n",
       "    <tr>\n",
       "      <th>4</th>\n",
       "      <td>2011-01-20 04:00:00</td>\n",
       "      <td>1</td>\n",
       "      <td>0</td>\n",
       "      <td>1</td>\n",
       "      <td>1</td>\n",
       "      <td>10.66</td>\n",
       "      <td>12.880</td>\n",
       "      <td>56</td>\n",
       "      <td>11.0014</td>\n",
       "    </tr>\n",
       "    <tr>\n",
       "      <th>...</th>\n",
       "      <td>...</td>\n",
       "      <td>...</td>\n",
       "      <td>...</td>\n",
       "      <td>...</td>\n",
       "      <td>...</td>\n",
       "      <td>...</td>\n",
       "      <td>...</td>\n",
       "      <td>...</td>\n",
       "      <td>...</td>\n",
       "    </tr>\n",
       "    <tr>\n",
       "      <th>6488</th>\n",
       "      <td>2012-12-31 19:00:00</td>\n",
       "      <td>1</td>\n",
       "      <td>0</td>\n",
       "      <td>1</td>\n",
       "      <td>2</td>\n",
       "      <td>10.66</td>\n",
       "      <td>12.880</td>\n",
       "      <td>60</td>\n",
       "      <td>11.0014</td>\n",
       "    </tr>\n",
       "    <tr>\n",
       "      <th>6489</th>\n",
       "      <td>2012-12-31 20:00:00</td>\n",
       "      <td>1</td>\n",
       "      <td>0</td>\n",
       "      <td>1</td>\n",
       "      <td>2</td>\n",
       "      <td>10.66</td>\n",
       "      <td>12.880</td>\n",
       "      <td>60</td>\n",
       "      <td>11.0014</td>\n",
       "    </tr>\n",
       "    <tr>\n",
       "      <th>6490</th>\n",
       "      <td>2012-12-31 21:00:00</td>\n",
       "      <td>1</td>\n",
       "      <td>0</td>\n",
       "      <td>1</td>\n",
       "      <td>1</td>\n",
       "      <td>10.66</td>\n",
       "      <td>12.880</td>\n",
       "      <td>60</td>\n",
       "      <td>11.0014</td>\n",
       "    </tr>\n",
       "    <tr>\n",
       "      <th>6491</th>\n",
       "      <td>2012-12-31 22:00:00</td>\n",
       "      <td>1</td>\n",
       "      <td>0</td>\n",
       "      <td>1</td>\n",
       "      <td>1</td>\n",
       "      <td>10.66</td>\n",
       "      <td>13.635</td>\n",
       "      <td>56</td>\n",
       "      <td>8.9981</td>\n",
       "    </tr>\n",
       "    <tr>\n",
       "      <th>6492</th>\n",
       "      <td>2012-12-31 23:00:00</td>\n",
       "      <td>1</td>\n",
       "      <td>0</td>\n",
       "      <td>1</td>\n",
       "      <td>1</td>\n",
       "      <td>10.66</td>\n",
       "      <td>13.635</td>\n",
       "      <td>65</td>\n",
       "      <td>8.9981</td>\n",
       "    </tr>\n",
       "  </tbody>\n",
       "</table>\n",
       "<p>6493 rows × 9 columns</p>\n",
       "</div>"
      ],
      "text/plain": [
       "                datetime  season  holiday  workingday  weather   temp   atemp  \\\n",
       "0    2011-01-20 00:00:00       1        0           1        1  10.66  11.365   \n",
       "1    2011-01-20 01:00:00       1        0           1        1  10.66  13.635   \n",
       "2    2011-01-20 02:00:00       1        0           1        1  10.66  13.635   \n",
       "3    2011-01-20 03:00:00       1        0           1        1  10.66  12.880   \n",
       "4    2011-01-20 04:00:00       1        0           1        1  10.66  12.880   \n",
       "...                  ...     ...      ...         ...      ...    ...     ...   \n",
       "6488 2012-12-31 19:00:00       1        0           1        2  10.66  12.880   \n",
       "6489 2012-12-31 20:00:00       1        0           1        2  10.66  12.880   \n",
       "6490 2012-12-31 21:00:00       1        0           1        1  10.66  12.880   \n",
       "6491 2012-12-31 22:00:00       1        0           1        1  10.66  13.635   \n",
       "6492 2012-12-31 23:00:00       1        0           1        1  10.66  13.635   \n",
       "\n",
       "      humidity  windspeed  \n",
       "0           56    26.0027  \n",
       "1           56     0.0000  \n",
       "2           56     0.0000  \n",
       "3           56    11.0014  \n",
       "4           56    11.0014  \n",
       "...        ...        ...  \n",
       "6488        60    11.0014  \n",
       "6489        60    11.0014  \n",
       "6490        60    11.0014  \n",
       "6491        56     8.9981  \n",
       "6492        65     8.9981  \n",
       "\n",
       "[6493 rows x 9 columns]"
      ]
     },
     "execution_count": 60,
     "metadata": {},
     "output_type": "execute_result"
    }
   ],
   "source": [
    "Btest"
   ]
  },
  {
   "cell_type": "code",
   "execution_count": 6,
   "id": "65fcbe00",
   "metadata": {},
   "outputs": [],
   "source": [
    "new_train = Btrain.drop(['datetime', 'atemp'] , axis = 1)"
   ]
  },
  {
   "cell_type": "code",
   "execution_count": 7,
   "id": "74980df0",
   "metadata": {},
   "outputs": [],
   "source": [
    "new_test = Btest.drop(['datetime', 'atemp'] , axis = 1)"
   ]
  },
  {
   "cell_type": "code",
   "execution_count": 8,
   "id": "15c7e25b",
   "metadata": {},
   "outputs": [
    {
     "data": {
      "text/html": [
       "<div>\n",
       "<style scoped>\n",
       "    .dataframe tbody tr th:only-of-type {\n",
       "        vertical-align: middle;\n",
       "    }\n",
       "\n",
       "    .dataframe tbody tr th {\n",
       "        vertical-align: top;\n",
       "    }\n",
       "\n",
       "    .dataframe thead th {\n",
       "        text-align: right;\n",
       "    }\n",
       "</style>\n",
       "<table border=\"1\" class=\"dataframe\">\n",
       "  <thead>\n",
       "    <tr style=\"text-align: right;\">\n",
       "      <th></th>\n",
       "      <th>season</th>\n",
       "      <th>holiday</th>\n",
       "      <th>workingday</th>\n",
       "      <th>weather</th>\n",
       "      <th>temp</th>\n",
       "      <th>humidity</th>\n",
       "      <th>windspeed</th>\n",
       "      <th>casual</th>\n",
       "      <th>registered</th>\n",
       "      <th>count</th>\n",
       "      <th>date</th>\n",
       "      <th>time</th>\n",
       "    </tr>\n",
       "  </thead>\n",
       "  <tbody>\n",
       "    <tr>\n",
       "      <th>0</th>\n",
       "      <td>1</td>\n",
       "      <td>0</td>\n",
       "      <td>0</td>\n",
       "      <td>1</td>\n",
       "      <td>9.84</td>\n",
       "      <td>81</td>\n",
       "      <td>0.0000</td>\n",
       "      <td>3</td>\n",
       "      <td>13</td>\n",
       "      <td>16</td>\n",
       "      <td>2011-01-01</td>\n",
       "      <td>00:00:00</td>\n",
       "    </tr>\n",
       "    <tr>\n",
       "      <th>1</th>\n",
       "      <td>1</td>\n",
       "      <td>0</td>\n",
       "      <td>0</td>\n",
       "      <td>1</td>\n",
       "      <td>9.02</td>\n",
       "      <td>80</td>\n",
       "      <td>0.0000</td>\n",
       "      <td>8</td>\n",
       "      <td>32</td>\n",
       "      <td>40</td>\n",
       "      <td>2011-01-01</td>\n",
       "      <td>01:00:00</td>\n",
       "    </tr>\n",
       "    <tr>\n",
       "      <th>2</th>\n",
       "      <td>1</td>\n",
       "      <td>0</td>\n",
       "      <td>0</td>\n",
       "      <td>1</td>\n",
       "      <td>9.02</td>\n",
       "      <td>80</td>\n",
       "      <td>0.0000</td>\n",
       "      <td>5</td>\n",
       "      <td>27</td>\n",
       "      <td>32</td>\n",
       "      <td>2011-01-01</td>\n",
       "      <td>02:00:00</td>\n",
       "    </tr>\n",
       "    <tr>\n",
       "      <th>3</th>\n",
       "      <td>1</td>\n",
       "      <td>0</td>\n",
       "      <td>0</td>\n",
       "      <td>1</td>\n",
       "      <td>9.84</td>\n",
       "      <td>75</td>\n",
       "      <td>0.0000</td>\n",
       "      <td>3</td>\n",
       "      <td>10</td>\n",
       "      <td>13</td>\n",
       "      <td>2011-01-01</td>\n",
       "      <td>03:00:00</td>\n",
       "    </tr>\n",
       "    <tr>\n",
       "      <th>4</th>\n",
       "      <td>1</td>\n",
       "      <td>0</td>\n",
       "      <td>0</td>\n",
       "      <td>1</td>\n",
       "      <td>9.84</td>\n",
       "      <td>75</td>\n",
       "      <td>0.0000</td>\n",
       "      <td>0</td>\n",
       "      <td>1</td>\n",
       "      <td>1</td>\n",
       "      <td>2011-01-01</td>\n",
       "      <td>04:00:00</td>\n",
       "    </tr>\n",
       "    <tr>\n",
       "      <th>...</th>\n",
       "      <td>...</td>\n",
       "      <td>...</td>\n",
       "      <td>...</td>\n",
       "      <td>...</td>\n",
       "      <td>...</td>\n",
       "      <td>...</td>\n",
       "      <td>...</td>\n",
       "      <td>...</td>\n",
       "      <td>...</td>\n",
       "      <td>...</td>\n",
       "      <td>...</td>\n",
       "      <td>...</td>\n",
       "    </tr>\n",
       "    <tr>\n",
       "      <th>10881</th>\n",
       "      <td>4</td>\n",
       "      <td>0</td>\n",
       "      <td>1</td>\n",
       "      <td>1</td>\n",
       "      <td>15.58</td>\n",
       "      <td>50</td>\n",
       "      <td>26.0027</td>\n",
       "      <td>7</td>\n",
       "      <td>329</td>\n",
       "      <td>336</td>\n",
       "      <td>2012-12-19</td>\n",
       "      <td>19:00:00</td>\n",
       "    </tr>\n",
       "    <tr>\n",
       "      <th>10882</th>\n",
       "      <td>4</td>\n",
       "      <td>0</td>\n",
       "      <td>1</td>\n",
       "      <td>1</td>\n",
       "      <td>14.76</td>\n",
       "      <td>57</td>\n",
       "      <td>15.0013</td>\n",
       "      <td>10</td>\n",
       "      <td>231</td>\n",
       "      <td>241</td>\n",
       "      <td>2012-12-19</td>\n",
       "      <td>20:00:00</td>\n",
       "    </tr>\n",
       "    <tr>\n",
       "      <th>10883</th>\n",
       "      <td>4</td>\n",
       "      <td>0</td>\n",
       "      <td>1</td>\n",
       "      <td>1</td>\n",
       "      <td>13.94</td>\n",
       "      <td>61</td>\n",
       "      <td>15.0013</td>\n",
       "      <td>4</td>\n",
       "      <td>164</td>\n",
       "      <td>168</td>\n",
       "      <td>2012-12-19</td>\n",
       "      <td>21:00:00</td>\n",
       "    </tr>\n",
       "    <tr>\n",
       "      <th>10884</th>\n",
       "      <td>4</td>\n",
       "      <td>0</td>\n",
       "      <td>1</td>\n",
       "      <td>1</td>\n",
       "      <td>13.94</td>\n",
       "      <td>61</td>\n",
       "      <td>6.0032</td>\n",
       "      <td>12</td>\n",
       "      <td>117</td>\n",
       "      <td>129</td>\n",
       "      <td>2012-12-19</td>\n",
       "      <td>22:00:00</td>\n",
       "    </tr>\n",
       "    <tr>\n",
       "      <th>10885</th>\n",
       "      <td>4</td>\n",
       "      <td>0</td>\n",
       "      <td>1</td>\n",
       "      <td>1</td>\n",
       "      <td>13.12</td>\n",
       "      <td>66</td>\n",
       "      <td>8.9981</td>\n",
       "      <td>4</td>\n",
       "      <td>84</td>\n",
       "      <td>88</td>\n",
       "      <td>2012-12-19</td>\n",
       "      <td>23:00:00</td>\n",
       "    </tr>\n",
       "  </tbody>\n",
       "</table>\n",
       "<p>10886 rows × 12 columns</p>\n",
       "</div>"
      ],
      "text/plain": [
       "       season  holiday  workingday  weather   temp  humidity  windspeed  \\\n",
       "0           1        0           0        1   9.84        81     0.0000   \n",
       "1           1        0           0        1   9.02        80     0.0000   \n",
       "2           1        0           0        1   9.02        80     0.0000   \n",
       "3           1        0           0        1   9.84        75     0.0000   \n",
       "4           1        0           0        1   9.84        75     0.0000   \n",
       "...       ...      ...         ...      ...    ...       ...        ...   \n",
       "10881       4        0           1        1  15.58        50    26.0027   \n",
       "10882       4        0           1        1  14.76        57    15.0013   \n",
       "10883       4        0           1        1  13.94        61    15.0013   \n",
       "10884       4        0           1        1  13.94        61     6.0032   \n",
       "10885       4        0           1        1  13.12        66     8.9981   \n",
       "\n",
       "       casual  registered  count        date      time  \n",
       "0           3          13     16  2011-01-01  00:00:00  \n",
       "1           8          32     40  2011-01-01  01:00:00  \n",
       "2           5          27     32  2011-01-01  02:00:00  \n",
       "3           3          10     13  2011-01-01  03:00:00  \n",
       "4           0           1      1  2011-01-01  04:00:00  \n",
       "...       ...         ...    ...         ...       ...  \n",
       "10881       7         329    336  2012-12-19  19:00:00  \n",
       "10882      10         231    241  2012-12-19  20:00:00  \n",
       "10883       4         164    168  2012-12-19  21:00:00  \n",
       "10884      12         117    129  2012-12-19  22:00:00  \n",
       "10885       4          84     88  2012-12-19  23:00:00  \n",
       "\n",
       "[10886 rows x 12 columns]"
      ]
     },
     "execution_count": 8,
     "metadata": {},
     "output_type": "execute_result"
    }
   ],
   "source": [
    "new_train"
   ]
  },
  {
   "cell_type": "code",
   "execution_count": 9,
   "id": "906238a6",
   "metadata": {},
   "outputs": [
    {
     "data": {
      "text/html": [
       "<div>\n",
       "<style scoped>\n",
       "    .dataframe tbody tr th:only-of-type {\n",
       "        vertical-align: middle;\n",
       "    }\n",
       "\n",
       "    .dataframe tbody tr th {\n",
       "        vertical-align: top;\n",
       "    }\n",
       "\n",
       "    .dataframe thead th {\n",
       "        text-align: right;\n",
       "    }\n",
       "</style>\n",
       "<table border=\"1\" class=\"dataframe\">\n",
       "  <thead>\n",
       "    <tr style=\"text-align: right;\">\n",
       "      <th></th>\n",
       "      <th>season</th>\n",
       "      <th>holiday</th>\n",
       "      <th>workingday</th>\n",
       "      <th>weather</th>\n",
       "      <th>temp</th>\n",
       "      <th>humidity</th>\n",
       "      <th>windspeed</th>\n",
       "      <th>date</th>\n",
       "      <th>time</th>\n",
       "    </tr>\n",
       "  </thead>\n",
       "  <tbody>\n",
       "    <tr>\n",
       "      <th>0</th>\n",
       "      <td>1</td>\n",
       "      <td>0</td>\n",
       "      <td>1</td>\n",
       "      <td>1</td>\n",
       "      <td>10.66</td>\n",
       "      <td>56</td>\n",
       "      <td>26.0027</td>\n",
       "      <td>2011-01-20</td>\n",
       "      <td>00:00:00</td>\n",
       "    </tr>\n",
       "    <tr>\n",
       "      <th>1</th>\n",
       "      <td>1</td>\n",
       "      <td>0</td>\n",
       "      <td>1</td>\n",
       "      <td>1</td>\n",
       "      <td>10.66</td>\n",
       "      <td>56</td>\n",
       "      <td>0.0000</td>\n",
       "      <td>2011-01-20</td>\n",
       "      <td>01:00:00</td>\n",
       "    </tr>\n",
       "    <tr>\n",
       "      <th>2</th>\n",
       "      <td>1</td>\n",
       "      <td>0</td>\n",
       "      <td>1</td>\n",
       "      <td>1</td>\n",
       "      <td>10.66</td>\n",
       "      <td>56</td>\n",
       "      <td>0.0000</td>\n",
       "      <td>2011-01-20</td>\n",
       "      <td>02:00:00</td>\n",
       "    </tr>\n",
       "    <tr>\n",
       "      <th>3</th>\n",
       "      <td>1</td>\n",
       "      <td>0</td>\n",
       "      <td>1</td>\n",
       "      <td>1</td>\n",
       "      <td>10.66</td>\n",
       "      <td>56</td>\n",
       "      <td>11.0014</td>\n",
       "      <td>2011-01-20</td>\n",
       "      <td>03:00:00</td>\n",
       "    </tr>\n",
       "    <tr>\n",
       "      <th>4</th>\n",
       "      <td>1</td>\n",
       "      <td>0</td>\n",
       "      <td>1</td>\n",
       "      <td>1</td>\n",
       "      <td>10.66</td>\n",
       "      <td>56</td>\n",
       "      <td>11.0014</td>\n",
       "      <td>2011-01-20</td>\n",
       "      <td>04:00:00</td>\n",
       "    </tr>\n",
       "    <tr>\n",
       "      <th>...</th>\n",
       "      <td>...</td>\n",
       "      <td>...</td>\n",
       "      <td>...</td>\n",
       "      <td>...</td>\n",
       "      <td>...</td>\n",
       "      <td>...</td>\n",
       "      <td>...</td>\n",
       "      <td>...</td>\n",
       "      <td>...</td>\n",
       "    </tr>\n",
       "    <tr>\n",
       "      <th>6488</th>\n",
       "      <td>1</td>\n",
       "      <td>0</td>\n",
       "      <td>1</td>\n",
       "      <td>2</td>\n",
       "      <td>10.66</td>\n",
       "      <td>60</td>\n",
       "      <td>11.0014</td>\n",
       "      <td>2012-12-31</td>\n",
       "      <td>19:00:00</td>\n",
       "    </tr>\n",
       "    <tr>\n",
       "      <th>6489</th>\n",
       "      <td>1</td>\n",
       "      <td>0</td>\n",
       "      <td>1</td>\n",
       "      <td>2</td>\n",
       "      <td>10.66</td>\n",
       "      <td>60</td>\n",
       "      <td>11.0014</td>\n",
       "      <td>2012-12-31</td>\n",
       "      <td>20:00:00</td>\n",
       "    </tr>\n",
       "    <tr>\n",
       "      <th>6490</th>\n",
       "      <td>1</td>\n",
       "      <td>0</td>\n",
       "      <td>1</td>\n",
       "      <td>1</td>\n",
       "      <td>10.66</td>\n",
       "      <td>60</td>\n",
       "      <td>11.0014</td>\n",
       "      <td>2012-12-31</td>\n",
       "      <td>21:00:00</td>\n",
       "    </tr>\n",
       "    <tr>\n",
       "      <th>6491</th>\n",
       "      <td>1</td>\n",
       "      <td>0</td>\n",
       "      <td>1</td>\n",
       "      <td>1</td>\n",
       "      <td>10.66</td>\n",
       "      <td>56</td>\n",
       "      <td>8.9981</td>\n",
       "      <td>2012-12-31</td>\n",
       "      <td>22:00:00</td>\n",
       "    </tr>\n",
       "    <tr>\n",
       "      <th>6492</th>\n",
       "      <td>1</td>\n",
       "      <td>0</td>\n",
       "      <td>1</td>\n",
       "      <td>1</td>\n",
       "      <td>10.66</td>\n",
       "      <td>65</td>\n",
       "      <td>8.9981</td>\n",
       "      <td>2012-12-31</td>\n",
       "      <td>23:00:00</td>\n",
       "    </tr>\n",
       "  </tbody>\n",
       "</table>\n",
       "<p>6493 rows × 9 columns</p>\n",
       "</div>"
      ],
      "text/plain": [
       "      season  holiday  workingday  weather   temp  humidity  windspeed  \\\n",
       "0          1        0           1        1  10.66        56    26.0027   \n",
       "1          1        0           1        1  10.66        56     0.0000   \n",
       "2          1        0           1        1  10.66        56     0.0000   \n",
       "3          1        0           1        1  10.66        56    11.0014   \n",
       "4          1        0           1        1  10.66        56    11.0014   \n",
       "...      ...      ...         ...      ...    ...       ...        ...   \n",
       "6488       1        0           1        2  10.66        60    11.0014   \n",
       "6489       1        0           1        2  10.66        60    11.0014   \n",
       "6490       1        0           1        1  10.66        60    11.0014   \n",
       "6491       1        0           1        1  10.66        56     8.9981   \n",
       "6492       1        0           1        1  10.66        65     8.9981   \n",
       "\n",
       "            date      time  \n",
       "0     2011-01-20  00:00:00  \n",
       "1     2011-01-20  01:00:00  \n",
       "2     2011-01-20  02:00:00  \n",
       "3     2011-01-20  03:00:00  \n",
       "4     2011-01-20  04:00:00  \n",
       "...          ...       ...  \n",
       "6488  2012-12-31  19:00:00  \n",
       "6489  2012-12-31  20:00:00  \n",
       "6490  2012-12-31  21:00:00  \n",
       "6491  2012-12-31  22:00:00  \n",
       "6492  2012-12-31  23:00:00  \n",
       "\n",
       "[6493 rows x 9 columns]"
      ]
     },
     "execution_count": 9,
     "metadata": {},
     "output_type": "execute_result"
    }
   ],
   "source": [
    "new_test"
   ]
  },
  {
   "cell_type": "code",
   "execution_count": 10,
   "id": "db5f2c10",
   "metadata": {
    "ExecuteTime": {
     "end_time": "2022-05-02T00:21:31.911805Z",
     "start_time": "2022-05-02T00:21:31.898804Z"
    }
   },
   "outputs": [
    {
     "name": "stdout",
     "output_type": "stream",
     "text": [
      "The number of rows and columns in the dataset are (10886, 12) respectively\n"
     ]
    }
   ],
   "source": [
    "print(\"The number of rows and columns in the dataset are\", new_train.shape, \"respectively\")"
   ]
  },
  {
   "cell_type": "code",
   "execution_count": 11,
   "id": "027f6ba3",
   "metadata": {
    "ExecuteTime": {
     "end_time": "2022-05-02T00:21:31.926876Z",
     "start_time": "2022-05-02T00:21:31.913799Z"
    }
   },
   "outputs": [
    {
     "name": "stdout",
     "output_type": "stream",
     "text": [
      "season          int64\n",
      "holiday         int64\n",
      "workingday      int64\n",
      "weather         int64\n",
      "temp          float64\n",
      "humidity        int64\n",
      "windspeed     float64\n",
      "casual          int64\n",
      "registered      int64\n",
      "count           int64\n",
      "date           object\n",
      "time           object\n",
      "dtype: object\n"
     ]
    }
   ],
   "source": [
    "print(new_train.dtypes)"
   ]
  },
  {
   "cell_type": "code",
   "execution_count": 12,
   "id": "04404dea",
   "metadata": {
    "ExecuteTime": {
     "end_time": "2022-05-02T00:21:31.942849Z",
     "start_time": "2022-05-02T00:21:31.927966Z"
    }
   },
   "outputs": [
    {
     "data": {
      "text/plain": [
       "season        0\n",
       "holiday       0\n",
       "workingday    0\n",
       "weather       0\n",
       "temp          0\n",
       "humidity      0\n",
       "windspeed     0\n",
       "casual        0\n",
       "registered    0\n",
       "count         0\n",
       "date          0\n",
       "time          0\n",
       "dtype: int64"
      ]
     },
     "execution_count": 12,
     "metadata": {},
     "output_type": "execute_result"
    }
   ],
   "source": [
    "new_train.isnull().sum() # isnull = isna"
   ]
  },
  {
   "cell_type": "markdown",
   "id": "2e8edf01",
   "metadata": {},
   "source": [
    "### Now, we'll remove the variables not in Test Table."
   ]
  },
  {
   "cell_type": "code",
   "execution_count": 13,
   "id": "835ab2ea",
   "metadata": {
    "ExecuteTime": {
     "end_time": "2022-05-02T18:06:53.835664Z",
     "start_time": "2022-05-02T18:06:53.811657Z"
    }
   },
   "outputs": [
    {
     "name": "stdout",
     "output_type": "stream",
     "text": [
      "['casual', 'registered', 'count']\n"
     ]
    }
   ],
   "source": [
    "new_test.columns\n",
    "\n",
    "print([i for i in new_train.columns if i not in new_test.columns]) "
   ]
  },
  {
   "cell_type": "markdown",
   "id": "618ff9ec",
   "metadata": {},
   "source": [
    "Hence, we have to drop these 2 columns as they won't be relevant in final prediction. 'Count' is not dropped as it's only present in test dataset."
   ]
  },
  {
   "cell_type": "code",
   "execution_count": 14,
   "id": "c89763c8",
   "metadata": {
    "ExecuteTime": {
     "end_time": "2022-05-02T18:06:56.495270Z",
     "start_time": "2022-05-02T18:06:56.451363Z"
    }
   },
   "outputs": [
    {
     "data": {
      "text/html": [
       "<div>\n",
       "<style scoped>\n",
       "    .dataframe tbody tr th:only-of-type {\n",
       "        vertical-align: middle;\n",
       "    }\n",
       "\n",
       "    .dataframe tbody tr th {\n",
       "        vertical-align: top;\n",
       "    }\n",
       "\n",
       "    .dataframe thead th {\n",
       "        text-align: right;\n",
       "    }\n",
       "</style>\n",
       "<table border=\"1\" class=\"dataframe\">\n",
       "  <thead>\n",
       "    <tr style=\"text-align: right;\">\n",
       "      <th></th>\n",
       "      <th>season</th>\n",
       "      <th>holiday</th>\n",
       "      <th>workingday</th>\n",
       "      <th>weather</th>\n",
       "      <th>temp</th>\n",
       "      <th>humidity</th>\n",
       "      <th>windspeed</th>\n",
       "      <th>count</th>\n",
       "      <th>date</th>\n",
       "      <th>time</th>\n",
       "    </tr>\n",
       "  </thead>\n",
       "  <tbody>\n",
       "    <tr>\n",
       "      <th>0</th>\n",
       "      <td>1</td>\n",
       "      <td>0</td>\n",
       "      <td>0</td>\n",
       "      <td>1</td>\n",
       "      <td>9.84</td>\n",
       "      <td>81</td>\n",
       "      <td>0.0</td>\n",
       "      <td>16</td>\n",
       "      <td>2011-01-01</td>\n",
       "      <td>00:00:00</td>\n",
       "    </tr>\n",
       "    <tr>\n",
       "      <th>1</th>\n",
       "      <td>1</td>\n",
       "      <td>0</td>\n",
       "      <td>0</td>\n",
       "      <td>1</td>\n",
       "      <td>9.02</td>\n",
       "      <td>80</td>\n",
       "      <td>0.0</td>\n",
       "      <td>40</td>\n",
       "      <td>2011-01-01</td>\n",
       "      <td>01:00:00</td>\n",
       "    </tr>\n",
       "    <tr>\n",
       "      <th>2</th>\n",
       "      <td>1</td>\n",
       "      <td>0</td>\n",
       "      <td>0</td>\n",
       "      <td>1</td>\n",
       "      <td>9.02</td>\n",
       "      <td>80</td>\n",
       "      <td>0.0</td>\n",
       "      <td>32</td>\n",
       "      <td>2011-01-01</td>\n",
       "      <td>02:00:00</td>\n",
       "    </tr>\n",
       "    <tr>\n",
       "      <th>3</th>\n",
       "      <td>1</td>\n",
       "      <td>0</td>\n",
       "      <td>0</td>\n",
       "      <td>1</td>\n",
       "      <td>9.84</td>\n",
       "      <td>75</td>\n",
       "      <td>0.0</td>\n",
       "      <td>13</td>\n",
       "      <td>2011-01-01</td>\n",
       "      <td>03:00:00</td>\n",
       "    </tr>\n",
       "    <tr>\n",
       "      <th>4</th>\n",
       "      <td>1</td>\n",
       "      <td>0</td>\n",
       "      <td>0</td>\n",
       "      <td>1</td>\n",
       "      <td>9.84</td>\n",
       "      <td>75</td>\n",
       "      <td>0.0</td>\n",
       "      <td>1</td>\n",
       "      <td>2011-01-01</td>\n",
       "      <td>04:00:00</td>\n",
       "    </tr>\n",
       "  </tbody>\n",
       "</table>\n",
       "</div>"
      ],
      "text/plain": [
       "   season  holiday  workingday  weather  temp  humidity  windspeed  count  \\\n",
       "0       1        0           0        1  9.84        81        0.0     16   \n",
       "1       1        0           0        1  9.02        80        0.0     40   \n",
       "2       1        0           0        1  9.02        80        0.0     32   \n",
       "3       1        0           0        1  9.84        75        0.0     13   \n",
       "4       1        0           0        1  9.84        75        0.0      1   \n",
       "\n",
       "         date      time  \n",
       "0  2011-01-01  00:00:00  \n",
       "1  2011-01-01  01:00:00  \n",
       "2  2011-01-01  02:00:00  \n",
       "3  2011-01-01  03:00:00  \n",
       "4  2011-01-01  04:00:00  "
      ]
     },
     "execution_count": 14,
     "metadata": {},
     "output_type": "execute_result"
    }
   ],
   "source": [
    "new_train = new_train.drop(['casual','registered'], axis=1)\n",
    "new_train.head()"
   ]
  },
  {
   "cell_type": "code",
   "execution_count": 15,
   "id": "d71b69dd",
   "metadata": {
    "ExecuteTime": {
     "end_time": "2022-05-02T18:07:00.711695Z",
     "start_time": "2022-05-02T18:07:00.679535Z"
    }
   },
   "outputs": [],
   "source": [
    "#new_train['hr'] = new_train['datetime'].dt.hour\n",
    "#new_train['hr'] = new_train['time'].dt.hour\n",
    "new_train['hour'] = pd.to_datetime(new_train.time, format='%H:%M:%S')\n",
    "new_train['hour'] = new_train['hour'].dt.hour\n"
   ]
  },
  {
   "cell_type": "code",
   "execution_count": 16,
   "id": "11cc45f3",
   "metadata": {
    "ExecuteTime": {
     "end_time": "2022-05-02T18:07:03.863772Z",
     "start_time": "2022-05-02T18:07:02.416157Z"
    }
   },
   "outputs": [
    {
     "data": {
      "text/plain": [
       "<seaborn.axisgrid.FacetGrid at 0xad74407160>"
      ]
     },
     "execution_count": 16,
     "metadata": {},
     "output_type": "execute_result"
    },
    {
     "data": {
      "image/png": "[encoded data removed]",
      "text/plain": [
       "<Figure size 720x360 with 1 Axes>"
      ]
     },
     "metadata": {
      "needs_background": "light"
     },
     "output_type": "display_data"
    }
   ],
   "source": [
    "sns.catplot(x=\"hour\",y=\"count\",data=new_train, kind='bar', palette = 'Accent', height=5 ,aspect=2)"
   ]
  },
  {
   "cell_type": "code",
   "execution_count": 17,
   "id": "14eb8974",
   "metadata": {
    "ExecuteTime": {
     "end_time": "2022-05-02T00:21:33.398729Z",
     "start_time": "2022-05-02T00:21:33.386785Z"
    }
   },
   "outputs": [],
   "source": [
    "new_train['year'] =  pd.to_datetime(new_train.date, format='%Y-%m-%d')\n",
    "new_train['year'] = new_train['year'].dt.year"
   ]
  },
  {
   "cell_type": "code",
   "execution_count": 18,
   "id": "c7b3ee76",
   "metadata": {
    "ExecuteTime": {
     "end_time": "2022-05-02T00:21:33.676978Z",
     "start_time": "2022-05-02T00:21:33.400659Z"
    }
   },
   "outputs": [
    {
     "data": {
      "text/plain": [
       "<seaborn.axisgrid.FacetGrid at 0xad7441c910>"
      ]
     },
     "execution_count": 18,
     "metadata": {},
     "output_type": "execute_result"
    },
    {
     "data": {
      "image/png": "[encoded data removed]",
      "text/plain": [
       "<Figure size 630x360 with 1 Axes>"
      ]
     },
     "metadata": {
      "needs_background": "light"
     },
     "output_type": "display_data"
    }
   ],
   "source": [
    "sns.catplot(x = \"year\", y=\"count\", data=new_train ,kind='box', color = 'Green', height = 5 ,aspect= 1.75)"
   ]
  },
  {
   "cell_type": "markdown",
   "id": "b7bddd27",
   "metadata": {},
   "source": [
    "### Building Correlation Matrix:"
   ]
  },
  {
   "cell_type": "code",
   "execution_count": 19,
   "id": "b0a4193f",
   "metadata": {
    "ExecuteTime": {
     "end_time": "2022-05-07T22:56:14.340761Z",
     "start_time": "2022-05-07T22:56:14.316377Z"
    }
   },
   "outputs": [],
   "source": [
    "new_train['year'] =  pd.to_datetime(new_train.date, format='%Y-%m-%d')\n",
    "new_train['year'] = new_train['year'].dt.year\n",
    "new_train['month'] =  pd.to_datetime(new_train.date, format='%Y-%m-%d')\n",
    "new_train['month'] = new_train['month'].dt.month\n",
    "new_train['day'] =  pd.to_datetime(new_train.date, format='%Y-%m-%d')\n",
    "new_train['day'] = new_train['day'].dt.day\n",
    "new_train['hour'] = pd.to_datetime(new_train.time, format='%H:%M:%S')\n",
    "new_train['hour'] = new_train['hour'].dt.hour\n",
    "new_train['minute'] = pd.to_datetime(new_train.time, format='%H:%M:%S')\n",
    "new_train['minute'] = new_train['minute'].dt.minute\n",
    "new_train['second'] = pd.to_datetime(new_train.time, format='%H:%M:%S')\n",
    "new_train['second'] = new_train['second'].dt.second\n",
    "#new_train['year']   = new_train['datetime'].dt.year\n",
    "#new_train['month']  = new_train['datetime'].dt.month\n",
    "#new_train['day']    = new_train['datetime'].dt.day\n",
    "#new_train['hour']   = new_train['datetime'].dt.hour\n",
    "#new_train['minute'] = new_train['datetime'].dt.minute\n",
    "#new_train['second'] = new_train['datetime'].dt.second"
   ]
  },
  {
   "cell_type": "code",
   "execution_count": 20,
   "id": "905f3582",
   "metadata": {
    "ExecuteTime": {
     "end_time": "2022-05-07T22:56:18.912257Z",
     "start_time": "2022-05-07T22:56:17.811700Z"
    },
    "scrolled": true
   },
   "outputs": [
    {
     "data": {
      "text/plain": [
       "<AxesSubplot:>"
      ]
     },
     "execution_count": 20,
     "metadata": {},
     "output_type": "execute_result"
    },
    {
     "data": {
      "image/png": "[encoded data removed]",
      "text/plain": [
       "<Figure size 1440x720 with 2 Axes>"
      ]
     },
     "metadata": {
      "needs_background": "light"
     },
     "output_type": "display_data"
    }
   ],
   "source": [
    "#numeric = [\"temp\",\"atemp\",\"humidity\",\"windspeed\",\"count\",\"year\",\"month\",\"day\",\"hour\"]\n",
    "numeric = [\"temp\",\"humidity\",\"windspeed\",\"count\",\"year\",\"month\",\"day\",\"hour\"]\n",
    "plt.subplots(figsize=(20,10))\n",
    "sns.heatmap(new_train[numeric].corr(),annot=True)"
   ]
  },
  {
   "cell_type": "code",
   "execution_count": 21,
   "id": "837f710c",
   "metadata": {
    "ExecuteTime": {
     "end_time": "2022-05-02T00:21:35.713937Z",
     "start_time": "2022-05-02T00:21:34.768062Z"
    }
   },
   "outputs": [
    {
     "data": {
      "text/plain": [
       "<seaborn.axisgrid.FacetGrid at 0xad744074f0>"
      ]
     },
     "execution_count": 21,
     "metadata": {},
     "output_type": "execute_result"
    },
    {
     "data": {
      "image/png": "[encoded data removed]",
      "text/plain": [
       "<Figure size 360x360 with 1 Axes>"
      ]
     },
     "metadata": {
      "needs_background": "light"
     },
     "output_type": "display_data"
    }
   ],
   "source": [
    "new_df=new_train.copy()\n",
    "\n",
    "new_df['temp_bin']=np.floor(new_df['temp'])//3\n",
    "\n",
    "sns.catplot(x=\"temp_bin\",y=\"count\",data=new_df,kind='bar')"
   ]
  },
  {
   "cell_type": "code",
   "execution_count": 22,
   "id": "6dc72437",
   "metadata": {
    "ExecuteTime": {
     "end_time": "2022-05-02T00:21:39.308674Z",
     "start_time": "2022-05-02T00:21:35.715856Z"
    }
   },
   "outputs": [
    {
     "data": {
      "text/plain": [
       "[Text(0.5, 0, 'hour'), Text(0.5, 1.0, 'Rental volume by time')]"
      ]
     },
     "execution_count": 22,
     "metadata": {},
     "output_type": "execute_result"
    },
    {
     "data": {
      "image/png": "[encoded data removed]",
      "text/plain": [
       "<Figure size 1296x576 with 6 Axes>"
      ]
     },
     "metadata": {
      "needs_background": "light"
     },
     "output_type": "display_data"
    }
   ],
   "source": [
    "figure, ((ax1,ax2,ax3), (ax4,ax5,ax6)) = plt.subplots(nrows=2, ncols=3)\n",
    "figure.set_size_inches(18,8)\n",
    "\n",
    "sns.barplot(data=new_train, x=\"year\", y=\"count\", ax=ax1)\n",
    "sns.barplot(data=new_train, x=\"month\", y=\"count\", ax=ax2)\n",
    "sns.barplot(data=new_train, x=\"day\", y=\"count\", ax=ax3)\n",
    "sns.barplot(data=new_train, x=\"hour\", y=\"count\", ax=ax4)\n",
    "sns.barplot(data=new_train, x=\"minute\", y=\"count\", ax=ax5)\n",
    "sns.barplot(data=new_train, x=\"second\", y=\"count\", ax=ax6)\n",
    "\n",
    "ax1.set(ylabel='Count',title=\"Rental volume by year\")\n",
    "ax2.set(xlabel='month',title=\"Rental volume by month\")\n",
    "ax3.set(xlabel='day', title=\"Rental volume by day\")\n",
    "ax4.set(xlabel='hour', title=\"Rental volume by time\")"
   ]
  },
  {
   "cell_type": "code",
   "execution_count": 23,
   "id": "0c70adfe",
   "metadata": {
    "ExecuteTime": {
     "end_time": "2022-05-02T00:21:39.650087Z",
     "start_time": "2022-05-02T00:21:39.310669Z"
    }
   },
   "outputs": [
    {
     "data": {
      "text/plain": [
       "<AxesSubplot:xlabel='date'>"
      ]
     },
     "execution_count": 23,
     "metadata": {},
     "output_type": "execute_result"
    },
    {
     "data": {
      "image/png": "[encoded data removed]",
      "text/plain": [
       "<Figure size 1080x504 with 1 Axes>"
      ]
     },
     "metadata": {
      "needs_background": "light"
     },
     "output_type": "display_data"
    }
   ],
   "source": [
    "#new_train_date_index = new_train.set_index('datetime')\n",
    "new_train_date_index = new_train.set_index('date')\n",
    "new_train_date_index[\"count\"].plot(figsize=(15, 7))"
   ]
  },
  {
   "cell_type": "code",
   "execution_count": 24,
   "id": "3b21f410",
   "metadata": {
    "ExecuteTime": {
     "end_time": "2022-05-02T00:21:39.666072Z",
     "start_time": "2022-05-02T00:21:39.652129Z"
    }
   },
   "outputs": [],
   "source": [
    "# Plotting demand across hours for each year:"
   ]
  },
  {
   "cell_type": "code",
   "execution_count": 25,
   "id": "71d5485c",
   "metadata": {
    "ExecuteTime": {
     "end_time": "2022-05-02T00:21:39.945126Z",
     "start_time": "2022-05-02T00:21:39.667252Z"
    }
   },
   "outputs": [
    {
     "data": {
      "text/plain": [
       "Text(0.5, 1.0, 'Demand at Different Hours across Years')"
      ]
     },
     "execution_count": 25,
     "metadata": {},
     "output_type": "execute_result"
    },
    {
     "data": {
      "image/png": "[encoded data removed]",
      "text/plain": [
       "<Figure size 1296x648 with 1 Axes>"
      ]
     },
     "metadata": {
      "needs_background": "light"
     },
     "output_type": "display_data"
    }
   ],
   "source": [
    "#new_train['hour'] = new_train['datetime'].dt.hour\n",
    "#new_train['year'] = new_train.datetime.dt.year\n",
    "new_train['hour'] = pd.to_datetime(new_train.time, format='%H:%M:%S')\n",
    "new_train['hour'] = new_train['hour'].dt.hour\n",
    "new_train['year'] =  pd.to_datetime(new_train.date, format='%Y-%m-%d')\n",
    "new_train['year'] = new_train['year'].dt.year\n",
    "\n",
    "piv = pd.pivot_table(new_train, index=['hour'],columns=['year'], values=['count'])\n",
    "\n",
    "piv.plot(figsize=(18, 9)).set_title('Demand at Different Hours across Years', fontweight=\"bold\")"
   ]
  },
  {
   "cell_type": "code",
   "execution_count": 26,
   "id": "8c948195",
   "metadata": {
    "ExecuteTime": {
     "end_time": "2022-05-02T00:21:40.085246Z",
     "start_time": "2022-05-02T00:21:39.946775Z"
    }
   },
   "outputs": [
    {
     "data": {
      "text/plain": [
       "Text(0.5, 1.0, 'Count Boxplot')"
      ]
     },
     "execution_count": 26,
     "metadata": {},
     "output_type": "execute_result"
    },
    {
     "data": {
      "image/png": "[encoded data removed]",
      "text/plain": [
       "<Figure size 432x288 with 1 Axes>"
      ]
     },
     "metadata": {
      "needs_background": "light"
     },
     "output_type": "display_data"
    }
   ],
   "source": [
    "new_train.boxplot(column= [\"count\"]).set_title('Count Boxplot', fontweight=\"bold\")\n"
   ]
  },
  {
   "cell_type": "code",
   "execution_count": 27,
   "id": "d500afc2",
   "metadata": {
    "ExecuteTime": {
     "end_time": "2022-05-02T00:21:40.317953Z",
     "start_time": "2022-05-02T00:21:40.087241Z"
    }
   },
   "outputs": [
    {
     "data": {
      "text/plain": [
       "Text(0.5, 1.0, 'Boxplots of Temp, Weather, Humidity, and Windspeed')"
      ]
     },
     "execution_count": 27,
     "metadata": {},
     "output_type": "execute_result"
    },
    {
     "data": {
      "image/png": "[encoded data removed]",
      "text/plain": [
       "<Figure size 432x288 with 1 Axes>"
      ]
     },
     "metadata": {
      "needs_background": "light"
     },
     "output_type": "display_data"
    }
   ],
   "source": [
    "new_train.boxplot(column=[\"temp\", \"weather\", 'humidity', 'windspeed']).set_title('Boxplots of Temp, Weather, Humidity, and Windspeed') "
   ]
  },
  {
   "cell_type": "code",
   "execution_count": 56,
   "id": "ee8a6b9a",
   "metadata": {
    "ExecuteTime": {
     "end_time": "2022-05-02T00:21:40.349204Z",
     "start_time": "2022-05-02T00:21:40.323902Z"
    }
   },
   "outputs": [],
   "source": [
    "# Creating the list of features\n",
    "feature_names = ['year', 'hour', 'season', 'holiday', 'workingday',\n",
    "                 'weather', 'temp', 'humidity', 'windspeed']\n",
    "\n",
    "# Assigning the data corresponding to features in feature_names\n",
    "X_train = new_train[feature_names]\n",
    "\n",
    "# Assigning the data corresponding to features in feature_names\n",
    "#new_test['year'] = new_test.date.dt.year\n",
    "#new_test['hour'] = new_test.time.dt.hour\n",
    "new_test['year'] =  pd.to_datetime(new_test.date, format='%Y-%m-%d')\n",
    "new_test['year'] = new_test['year'].dt.year\n",
    "new_test['hour'] = pd.to_datetime(new_test.time, format='%H:%M:%S')\n",
    "new_test['hour'] = new_test['hour'].dt.hour\n",
    "\n",
    "X_test = new_test[feature_names]"
   ]
  },
  {
   "cell_type": "code",
   "execution_count": 29,
   "id": "9a08e5f9",
   "metadata": {
    "ExecuteTime": {
     "end_time": "2022-05-02T00:21:40.365041Z",
     "start_time": "2022-05-02T00:21:40.351030Z"
    }
   },
   "outputs": [
    {
     "name": "stdout",
     "output_type": "stream",
     "text": [
      "0         16\n",
      "1         40\n",
      "2         32\n",
      "3         13\n",
      "4          1\n",
      "        ... \n",
      "10881    336\n",
      "10882    241\n",
      "10883    168\n",
      "10884    129\n",
      "10885     88\n",
      "Name: count, Length: 10886, dtype: int64\n"
     ]
    }
   ],
   "source": [
    "y_train = new_train['count']\n",
    "print(y_train)"
   ]
  },
  {
   "cell_type": "code",
   "execution_count": 30,
   "id": "2b4b834c",
   "metadata": {
    "ExecuteTime": {
     "end_time": "2022-05-02T00:21:43.562068Z",
     "start_time": "2022-05-02T00:21:40.367003Z"
    }
   },
   "outputs": [],
   "source": [
    "# Defining the model \n",
    "rf_model = RandomForestRegressor(random_state=1)\n",
    "\n",
    "# Fitting the model \n",
    "rf_model.fit(X_train, y_train)\n",
    "\n",
    "# Prediction\n",
    "y_pred = rf_model.predict(X_test)\n",
    "pred = pd.DataFrame(y_pred)"
   ]
  },
  {
   "cell_type": "code",
   "execution_count": 31,
   "id": "3a8217ab",
   "metadata": {
    "ExecuteTime": {
     "end_time": "2022-05-02T00:21:43.794613Z",
     "start_time": "2022-05-02T00:21:43.563903Z"
    }
   },
   "outputs": [
    {
     "data": {
      "text/plain": [
       "<AxesSubplot:title={'center':'Feature Importance'}, ylabel='None'>"
      ]
     },
     "execution_count": 31,
     "metadata": {},
     "output_type": "execute_result"
    },
    {
     "data": {
      "image/png": "[encoded data removed]",
      "text/plain": [
       "<Figure size 576x720 with 1 Axes>"
      ]
     },
     "metadata": {},
     "output_type": "display_data"
    }
   ],
   "source": [
    "# Calculating feature importance\n",
    "feat_importance = pd.Series(rf_model.feature_importances_, index=X_train.columns)\n",
    "feat_importance.nlargest(10).plot(kind='pie', normalize = False, title = 'Feature Importance', figsize = (8,10))"
   ]
  },
  {
   "cell_type": "code",
   "execution_count": 61,
   "id": "e686210b",
   "metadata": {
    "ExecuteTime": {
     "end_time": "2022-05-02T00:21:43.824988Z",
     "start_time": "2022-05-02T00:21:43.797554Z"
    }
   },
   "outputs": [],
   "source": [
    "#Sample_Sub = pd.read_csv(r'C:\\Users\\bisha\\Videos\\sampleSubmission.csv')\n",
    "Sample_Sub = pd.read_csv(r'C:\\Users\\papa\\Desktop\\clark\\1st semester\\BAN 4550 - ANALYTICS PROGRAMMING\\Project\\sampleSubmission.csv')\n"
   ]
  },
  {
   "cell_type": "code",
   "execution_count": 70,
   "id": "45396d4c",
   "metadata": {
    "ExecuteTime": {
     "end_time": "2022-05-02T00:21:43.855675Z",
     "start_time": "2022-05-02T00:21:43.825990Z"
    }
   },
   "outputs": [],
   "source": [
    "# print \n",
    "datasets = pd.concat([Sample_Sub['datetime'], pred], axis=1)\n",
    "datasets.columns =['Date-time', 'count']"
   ]
  },
  {
   "cell_type": "code",
   "execution_count": 71,
   "id": "85c7941c",
   "metadata": {
    "ExecuteTime": {
     "end_time": "2022-05-02T00:21:43.871641Z",
     "start_time": "2022-05-02T00:21:43.856653Z"
    }
   },
   "outputs": [
    {
     "data": {
      "text/html": [
       "<div>\n",
       "<style scoped>\n",
       "    .dataframe tbody tr th:only-of-type {\n",
       "        vertical-align: middle;\n",
       "    }\n",
       "\n",
       "    .dataframe tbody tr th {\n",
       "        vertical-align: top;\n",
       "    }\n",
       "\n",
       "    .dataframe thead th {\n",
       "        text-align: right;\n",
       "    }\n",
       "</style>\n",
       "<table border=\"1\" class=\"dataframe\">\n",
       "  <thead>\n",
       "    <tr style=\"text-align: right;\">\n",
       "      <th></th>\n",
       "      <th>Date-time</th>\n",
       "      <th>count</th>\n",
       "    </tr>\n",
       "  </thead>\n",
       "  <tbody>\n",
       "    <tr>\n",
       "      <th>0</th>\n",
       "      <td>2011-01-20 00:00:00</td>\n",
       "      <td>10.230000</td>\n",
       "    </tr>\n",
       "    <tr>\n",
       "      <th>1</th>\n",
       "      <td>2011-01-20 01:00:00</td>\n",
       "      <td>4.260000</td>\n",
       "    </tr>\n",
       "    <tr>\n",
       "      <th>2</th>\n",
       "      <td>2011-01-20 02:00:00</td>\n",
       "      <td>3.790000</td>\n",
       "    </tr>\n",
       "    <tr>\n",
       "      <th>3</th>\n",
       "      <td>2011-01-20 03:00:00</td>\n",
       "      <td>3.656333</td>\n",
       "    </tr>\n",
       "    <tr>\n",
       "      <th>4</th>\n",
       "      <td>2011-01-20 04:00:00</td>\n",
       "      <td>3.010000</td>\n",
       "    </tr>\n",
       "    <tr>\n",
       "      <th>...</th>\n",
       "      <td>...</td>\n",
       "      <td>...</td>\n",
       "    </tr>\n",
       "    <tr>\n",
       "      <th>6488</th>\n",
       "      <td>2012-12-31 19:00:00</td>\n",
       "      <td>220.270000</td>\n",
       "    </tr>\n",
       "    <tr>\n",
       "      <th>6489</th>\n",
       "      <td>2012-12-31 20:00:00</td>\n",
       "      <td>157.820000</td>\n",
       "    </tr>\n",
       "    <tr>\n",
       "      <th>6490</th>\n",
       "      <td>2012-12-31 21:00:00</td>\n",
       "      <td>111.210000</td>\n",
       "    </tr>\n",
       "    <tr>\n",
       "      <th>6491</th>\n",
       "      <td>2012-12-31 22:00:00</td>\n",
       "      <td>97.135000</td>\n",
       "    </tr>\n",
       "    <tr>\n",
       "      <th>6492</th>\n",
       "      <td>2012-12-31 23:00:00</td>\n",
       "      <td>55.975000</td>\n",
       "    </tr>\n",
       "  </tbody>\n",
       "</table>\n",
       "<p>6493 rows × 2 columns</p>\n",
       "</div>"
      ],
      "text/plain": [
       "                Date-time       count\n",
       "0     2011-01-20 00:00:00   10.230000\n",
       "1     2011-01-20 01:00:00    4.260000\n",
       "2     2011-01-20 02:00:00    3.790000\n",
       "3     2011-01-20 03:00:00    3.656333\n",
       "4     2011-01-20 04:00:00    3.010000\n",
       "...                   ...         ...\n",
       "6488  2012-12-31 19:00:00  220.270000\n",
       "6489  2012-12-31 20:00:00  157.820000\n",
       "6490  2012-12-31 21:00:00  111.210000\n",
       "6491  2012-12-31 22:00:00   97.135000\n",
       "6492  2012-12-31 23:00:00   55.975000\n",
       "\n",
       "[6493 rows x 2 columns]"
      ]
     },
     "execution_count": 71,
     "metadata": {},
     "output_type": "execute_result"
    }
   ],
   "source": [
    "datasets"
   ]
  },
  {
   "cell_type": "code",
   "execution_count": 66,
   "id": "05281f21",
   "metadata": {
    "ExecuteTime": {
     "end_time": "2022-05-02T00:21:43.887340Z",
     "start_time": "2022-05-02T00:21:43.872639Z"
    }
   },
   "outputs": [
    {
     "data": {
      "text/html": [
       "<div>\n",
       "<style scoped>\n",
       "    .dataframe tbody tr th:only-of-type {\n",
       "        vertical-align: middle;\n",
       "    }\n",
       "\n",
       "    .dataframe tbody tr th {\n",
       "        vertical-align: top;\n",
       "    }\n",
       "\n",
       "    .dataframe thead th {\n",
       "        text-align: right;\n",
       "    }\n",
       "</style>\n",
       "<table border=\"1\" class=\"dataframe\">\n",
       "  <thead>\n",
       "    <tr style=\"text-align: right;\">\n",
       "      <th></th>\n",
       "      <th>datetime</th>\n",
       "      <th>count</th>\n",
       "    </tr>\n",
       "  </thead>\n",
       "  <tbody>\n",
       "    <tr>\n",
       "      <th>0</th>\n",
       "      <td>2011-01-20 00:00:00</td>\n",
       "      <td>10.230000</td>\n",
       "    </tr>\n",
       "    <tr>\n",
       "      <th>1</th>\n",
       "      <td>2011-01-20 01:00:00</td>\n",
       "      <td>4.260000</td>\n",
       "    </tr>\n",
       "    <tr>\n",
       "      <th>2</th>\n",
       "      <td>2011-01-20 02:00:00</td>\n",
       "      <td>3.790000</td>\n",
       "    </tr>\n",
       "    <tr>\n",
       "      <th>3</th>\n",
       "      <td>2011-01-20 03:00:00</td>\n",
       "      <td>3.656333</td>\n",
       "    </tr>\n",
       "    <tr>\n",
       "      <th>4</th>\n",
       "      <td>2011-01-20 04:00:00</td>\n",
       "      <td>3.010000</td>\n",
       "    </tr>\n",
       "    <tr>\n",
       "      <th>5</th>\n",
       "      <td>2011-01-20 05:00:00</td>\n",
       "      <td>6.320000</td>\n",
       "    </tr>\n",
       "    <tr>\n",
       "      <th>6</th>\n",
       "      <td>2011-01-20 06:00:00</td>\n",
       "      <td>39.450000</td>\n",
       "    </tr>\n",
       "    <tr>\n",
       "      <th>7</th>\n",
       "      <td>2011-01-20 07:00:00</td>\n",
       "      <td>105.720000</td>\n",
       "    </tr>\n",
       "    <tr>\n",
       "      <th>8</th>\n",
       "      <td>2011-01-20 08:00:00</td>\n",
       "      <td>247.640000</td>\n",
       "    </tr>\n",
       "    <tr>\n",
       "      <th>9</th>\n",
       "      <td>2011-01-20 09:00:00</td>\n",
       "      <td>121.400000</td>\n",
       "    </tr>\n",
       "    <tr>\n",
       "      <th>10</th>\n",
       "      <td>2011-01-20 10:00:00</td>\n",
       "      <td>62.710000</td>\n",
       "    </tr>\n",
       "    <tr>\n",
       "      <th>11</th>\n",
       "      <td>2011-01-20 11:00:00</td>\n",
       "      <td>70.940000</td>\n",
       "    </tr>\n",
       "    <tr>\n",
       "      <th>12</th>\n",
       "      <td>2011-01-20 12:00:00</td>\n",
       "      <td>81.960000</td>\n",
       "    </tr>\n",
       "    <tr>\n",
       "      <th>13</th>\n",
       "      <td>2011-01-20 13:00:00</td>\n",
       "      <td>82.050000</td>\n",
       "    </tr>\n",
       "    <tr>\n",
       "      <th>14</th>\n",
       "      <td>2011-01-20 14:00:00</td>\n",
       "      <td>87.000000</td>\n",
       "    </tr>\n",
       "    <tr>\n",
       "      <th>15</th>\n",
       "      <td>2011-01-20 15:00:00</td>\n",
       "      <td>87.190000</td>\n",
       "    </tr>\n",
       "    <tr>\n",
       "      <th>16</th>\n",
       "      <td>2011-01-20 16:00:00</td>\n",
       "      <td>97.800000</td>\n",
       "    </tr>\n",
       "    <tr>\n",
       "      <th>17</th>\n",
       "      <td>2011-01-20 17:00:00</td>\n",
       "      <td>210.700000</td>\n",
       "    </tr>\n",
       "    <tr>\n",
       "      <th>18</th>\n",
       "      <td>2011-01-20 18:00:00</td>\n",
       "      <td>185.410000</td>\n",
       "    </tr>\n",
       "    <tr>\n",
       "      <th>19</th>\n",
       "      <td>2011-01-20 19:00:00</td>\n",
       "      <td>105.570000</td>\n",
       "    </tr>\n",
       "    <tr>\n",
       "      <th>20</th>\n",
       "      <td>2011-01-20 20:00:00</td>\n",
       "      <td>73.380000</td>\n",
       "    </tr>\n",
       "    <tr>\n",
       "      <th>21</th>\n",
       "      <td>2011-01-20 21:00:00</td>\n",
       "      <td>49.640000</td>\n",
       "    </tr>\n",
       "    <tr>\n",
       "      <th>22</th>\n",
       "      <td>2011-01-20 22:00:00</td>\n",
       "      <td>44.890000</td>\n",
       "    </tr>\n",
       "    <tr>\n",
       "      <th>23</th>\n",
       "      <td>2011-01-20 23:00:00</td>\n",
       "      <td>27.950000</td>\n",
       "    </tr>\n",
       "  </tbody>\n",
       "</table>\n",
       "</div>"
      ],
      "text/plain": [
       "               datetime       count\n",
       "0   2011-01-20 00:00:00   10.230000\n",
       "1   2011-01-20 01:00:00    4.260000\n",
       "2   2011-01-20 02:00:00    3.790000\n",
       "3   2011-01-20 03:00:00    3.656333\n",
       "4   2011-01-20 04:00:00    3.010000\n",
       "5   2011-01-20 05:00:00    6.320000\n",
       "6   2011-01-20 06:00:00   39.450000\n",
       "7   2011-01-20 07:00:00  105.720000\n",
       "8   2011-01-20 08:00:00  247.640000\n",
       "9   2011-01-20 09:00:00  121.400000\n",
       "10  2011-01-20 10:00:00   62.710000\n",
       "11  2011-01-20 11:00:00   70.940000\n",
       "12  2011-01-20 12:00:00   81.960000\n",
       "13  2011-01-20 13:00:00   82.050000\n",
       "14  2011-01-20 14:00:00   87.000000\n",
       "15  2011-01-20 15:00:00   87.190000\n",
       "16  2011-01-20 16:00:00   97.800000\n",
       "17  2011-01-20 17:00:00  210.700000\n",
       "18  2011-01-20 18:00:00  185.410000\n",
       "19  2011-01-20 19:00:00  105.570000\n",
       "20  2011-01-20 20:00:00   73.380000\n",
       "21  2011-01-20 21:00:00   49.640000\n",
       "22  2011-01-20 22:00:00   44.890000\n",
       "23  2011-01-20 23:00:00   27.950000"
      ]
     },
     "execution_count": 66,
     "metadata": {},
     "output_type": "execute_result"
    }
   ],
   "source": [
    "dataset_new = datasets.iloc[0:24, :]\n",
    "\n",
    "dataset_new"
   ]
  },
  {
   "cell_type": "code",
   "execution_count": 67,
   "id": "0eac4563",
   "metadata": {
    "ExecuteTime": {
     "end_time": "2022-05-02T00:21:44.201676Z",
     "start_time": "2022-05-02T00:21:43.889334Z"
    }
   },
   "outputs": [
    {
     "data": {
      "text/plain": [
       "<AxesSubplot:title={'center':'Bike Demand for 24 hours on 20th Jan 2011'}>"
      ]
     },
     "execution_count": 67,
     "metadata": {},
     "output_type": "execute_result"
    },
    {
     "data": {
      "image/png": "[encoded data removed]",
      "text/plain": [
       "<Figure size 1080x720 with 1 Axes>"
      ]
     },
     "metadata": {
      "needs_background": "light"
     },
     "output_type": "display_data"
    }
   ],
   "source": [
    "dataset_new.plot(title = 'Bike Demand for 24 hours on 20th Jan 2011', kind = 'bar', figsize = (15,10))"
   ]
  },
  {
   "cell_type": "markdown",
   "id": "4bdfccc6",
   "metadata": {},
   "source": [
    "## The other one:"
   ]
  },
  {
   "cell_type": "code",
   "execution_count": 72,
   "id": "c7a6e006",
   "metadata": {
    "ExecuteTime": {
     "end_time": "2022-05-07T22:59:20.469622Z",
     "start_time": "2022-05-07T22:59:20.452490Z"
    }
   },
   "outputs": [],
   "source": [
    "feature_names = ['year', 'hour', 'season', 'holiday', 'workingday',\n",
    "                 'weather', 'temp', 'humidity', 'windspeed']\n",
    "\n",
    "# Assigning the data corresponding to features in feature_names\n",
    "X = new_train[feature_names]\n",
    "\n",
    "# Assigning the data corresponding to features in feature_names\n",
    "#new_test['year'] = new_test.datetime.dt.year\n",
    "#new_test['hour'] = new_test.datetime.dt.hour\n",
    "new_test['year'] =  pd.to_datetime(new_test.date, format='%Y-%m-%d')\n",
    "new_test['year'] = new_test['year'].dt.year\n",
    "new_test['hour'] = pd.to_datetime(new_test.time, format='%H:%M:%S')\n",
    "new_test['hour'] = new_test['hour'].dt.hour\n",
    "\n",
    "X_test = new_test[feature_names]\n",
    "\n",
    "y = new_train['count']"
   ]
  },
  {
   "cell_type": "code",
   "execution_count": 73,
   "id": "e7be02c2",
   "metadata": {
    "ExecuteTime": {
     "end_time": "2022-05-07T22:59:22.625299Z",
     "start_time": "2022-05-07T22:59:22.603358Z"
    }
   },
   "outputs": [],
   "source": [
    "X_train, X_val, y_train, y_val = train_test_split(X, y, test_size=0.3, random_state=42)\n"
   ]
  },
  {
   "cell_type": "code",
   "execution_count": 74,
   "id": "34e2630b",
   "metadata": {
    "ExecuteTime": {
     "end_time": "2022-05-07T22:59:25.093624Z",
     "start_time": "2022-05-07T22:59:25.083598Z"
    }
   },
   "outputs": [],
   "source": [
    "#Root Mean Squared Logarithmic Error\n",
    "\n",
    "from math import sqrt\n",
    "def RMSLE(y_pred , y_actual):\n",
    "    n = y_pred.size \n",
    "    RMSLE = sqrt(((np.log(y_pred+1)-np.log(y_actual+1))**2).sum()/n)\n",
    "    return RMSLE"
   ]
  },
  {
   "cell_type": "code",
   "execution_count": 46,
   "id": "e2594a3d",
   "metadata": {
    "ExecuteTime": {
     "end_time": "2022-05-07T22:59:28.521007Z",
     "start_time": "2022-05-07T22:59:28.445177Z"
    }
   },
   "outputs": [
    {
     "name": "stdout",
     "output_type": "stream",
     "text": [
      "Train score: 1.1583334821051394\n",
      "validation score: 1.1408736898707634\n"
     ]
    },
    {
     "name": "stderr",
     "output_type": "stream",
     "text": [
      "C:\\Users\\papa\\AppData\\Local\\Temp\\ipykernel_9744\\2723943917.py:6: RuntimeWarning: invalid value encountered in log\n",
      "  RMSLE = sqrt(((np.log(y_pred+1)-np.log(y_actual+1))**2).sum()/n)\n"
     ]
    }
   ],
   "source": [
    "lr = LinearRegression().fit(X_train, y_train)\n",
    "\n",
    "train_pred = lr.predict(X_train)\n",
    "val_pred = lr.predict(X_val)\n",
    "\n",
    "train_score = RMSLE(train_pred, y_train)\n",
    "val_score = RMSLE(val_pred ,y_val)\n",
    "\n",
    "print('Train score:', train_score)\n",
    "print('validation score:', val_score)"
   ]
  },
  {
   "cell_type": "code",
   "execution_count": 75,
   "id": "e9e6b7e0",
   "metadata": {
    "ExecuteTime": {
     "end_time": "2022-05-07T23:02:53.133779Z",
     "start_time": "2022-05-07T23:02:53.114818Z"
    }
   },
   "outputs": [
    {
     "data": {
      "text/plain": [
       "array([-20.23294255, -21.73933799, -13.71838973, ..., 216.00677528,\n",
       "       231.28198537, 221.32933189])"
      ]
     },
     "execution_count": 75,
     "metadata": {},
     "output_type": "execute_result"
    }
   ],
   "source": [
    "lm = linear_model.LinearRegression()\n",
    "model = lm.fit(X_train, y_train)\n",
    "predictions = lm.predict(X_test)\n",
    "predictions"
   ]
  },
  {
   "cell_type": "code",
   "execution_count": 76,
   "id": "dc574ad8",
   "metadata": {
    "ExecuteTime": {
     "end_time": "2022-05-07T22:59:41.597809Z",
     "start_time": "2022-05-07T22:59:39.694749Z"
    }
   },
   "outputs": [
    {
     "name": "stdout",
     "output_type": "stream",
     "text": [
      "                                 OLS Regression Results                                \n",
      "=======================================================================================\n",
      "Dep. Variable:                  count   R-squared (uncentered):                   0.686\n",
      "Model:                            OLS   Adj. R-squared (uncentered):              0.686\n",
      "Method:                 Least Squares   F-statistic:                              1849.\n",
      "Date:                Sat, 03 Dec 2022   Prob (F-statistic):                        0.00\n",
      "Time:                        21:38:14   Log-Likelihood:                         -48878.\n",
      "No. Observations:                7620   AIC:                                  9.777e+04\n",
      "Df Residuals:                    7611   BIC:                                  9.784e+04\n",
      "Df Model:                           9                                                  \n",
      "Covariance Type:            nonrobust                                                  \n",
      "==============================================================================\n",
      "                 coef    std err          t      P>|t|      [0.025      0.975]\n",
      "------------------------------------------------------------------------------\n",
      "year           0.0220      0.005      4.390      0.000       0.012       0.032\n",
      "hour           7.7995      0.259     30.154      0.000       7.292       8.307\n",
      "season        23.2585      1.616     14.393      0.000      20.091      26.426\n",
      "holiday      -11.2089     10.400     -1.078      0.281     -31.596       9.178\n",
      "workingday     1.6717      3.771      0.443      0.658      -5.721       9.064\n",
      "weather       -1.3455      3.005     -0.448      0.654      -7.235       4.544\n",
      "temp           6.7758      0.228     29.746      0.000       6.329       7.222\n",
      "humidity      -2.2433      0.109    -20.571      0.000      -2.457      -2.030\n",
      "windspeed      0.1351      0.222      0.610      0.542      -0.299       0.569\n",
      "==============================================================================\n",
      "Omnibus:                     1821.307   Durbin-Watson:                   2.006\n",
      "Prob(Omnibus):                  0.000   Jarque-Bera (JB):             4047.800\n",
      "Skew:                           1.367   Prob(JB):                         0.00\n",
      "Kurtosis:                       5.297   Cond. No.                     1.24e+04\n",
      "==============================================================================\n",
      "\n",
      "Notes:\n",
      "[1] R² is computed without centering (uncentered) since the model does not contain a constant.\n",
      "[2] Standard Errors assume that the covariance matrix of the errors is correctly specified.\n",
      "[3] The condition number is large, 1.24e+04. This might indicate that there are\n",
      "strong multicollinearity or other numerical problems.\n"
     ]
    }
   ],
   "source": [
    "import statsmodels.api as sm\n",
    "\n",
    "mod = sm.OLS(y_train, X_train)\n",
    "\n",
    "res = mod.fit()\n",
    "\n",
    "print(res.summary())"
   ]
  },
  {
   "cell_type": "markdown",
   "id": "dbfd4dfb",
   "metadata": {},
   "source": [
    "# Let's remove the unecessary variables from Regression:\n"
   ]
  },
  {
   "cell_type": "code",
   "execution_count": null,
   "id": "4bc626b3",
   "metadata": {},
   "outputs": [],
   "source": [
    "#Uncessary variables = One with high p-value\n",
    "# Such as - working day, weather, holiday"
   ]
  },
  {
   "cell_type": "code",
   "execution_count": 49,
   "id": "4f94c9cf",
   "metadata": {},
   "outputs": [
    {
     "name": "stdout",
     "output_type": "stream",
     "text": [
      "                                 OLS Regression Results                                \n",
      "=======================================================================================\n",
      "Dep. Variable:                  count   R-squared (uncentered):                   0.686\n",
      "Model:                            OLS   Adj. R-squared (uncentered):              0.686\n",
      "Method:                 Least Squares   F-statistic:                              1849.\n",
      "Date:                Sat, 03 Dec 2022   Prob (F-statistic):                        0.00\n",
      "Time:                        11:47:55   Log-Likelihood:                         -48878.\n",
      "No. Observations:                7620   AIC:                                  9.777e+04\n",
      "Df Residuals:                    7611   BIC:                                  9.784e+04\n",
      "Df Model:                           9                                                  \n",
      "Covariance Type:            nonrobust                                                  \n",
      "==============================================================================\n",
      "                 coef    std err          t      P>|t|      [0.025      0.975]\n",
      "------------------------------------------------------------------------------\n",
      "year           0.0220      0.005      4.390      0.000       0.012       0.032\n",
      "hour           7.7995      0.259     30.154      0.000       7.292       8.307\n",
      "season        23.2585      1.616     14.393      0.000      20.091      26.426\n",
      "holiday      -11.2089     10.400     -1.078      0.281     -31.596       9.178\n",
      "workingday     1.6717      3.771      0.443      0.658      -5.721       9.064\n",
      "weather       -1.3455      3.005     -0.448      0.654      -7.235       4.544\n",
      "temp           6.7758      0.228     29.746      0.000       6.329       7.222\n",
      "humidity      -2.2433      0.109    -20.571      0.000      -2.457      -2.030\n",
      "windspeed      0.1351      0.222      0.610      0.542      -0.299       0.569\n",
      "==============================================================================\n",
      "Omnibus:                     1821.307   Durbin-Watson:                   2.006\n",
      "Prob(Omnibus):                  0.000   Jarque-Bera (JB):             4047.800\n",
      "Skew:                           1.367   Prob(JB):                         0.00\n",
      "Kurtosis:                       5.297   Cond. No.                     1.24e+04\n",
      "==============================================================================\n",
      "\n",
      "Notes:\n",
      "[1] R² is computed without centering (uncentered) since the model does not contain a constant.\n",
      "[2] Standard Errors assume that the covariance matrix of the errors is correctly specified.\n",
      "[3] The condition number is large, 1.24e+04. This might indicate that there are\n",
      "strong multicollinearity or other numerical problems.\n"
     ]
    }
   ],
   "source": [
    "\n",
    "mod = sm.OLS(y_train, X_train)\n",
    "\n",
    "res = mod.fit()\n",
    "\n",
    "print(res.summary())"
   ]
  },
  {
   "cell_type": "code",
   "execution_count": 51,
   "id": "ecaa490c",
   "metadata": {
    "ExecuteTime": {
     "end_time": "2022-05-07T23:03:50.062779Z",
     "start_time": "2022-05-07T23:03:50.046355Z"
    }
   },
   "outputs": [],
   "source": [
    "feature_names = ['year', 'hour', 'season', 'temp', 'humidity', 'windspeed']\n",
    "\n",
    "# Assigning the data corresponding to features in feature_names\n",
    "X = new_train[feature_names]\n",
    "\n",
    "# Assigning the data corresponding to features in feature_names\n",
    "#new_test['year'] = new_test.datetime.dt.year\n",
    "#new_test['hour'] = new_test.datetime.dt.hour\n",
    "new_test['year'] =  pd.to_datetime(new_test.date, format='%Y-%m-%d')\n",
    "new_test['year'] = new_test['year'].dt.year\n",
    "new_test['hour'] = pd.to_datetime(new_test.time, format='%H:%M:%S')\n",
    "new_test['hour'] = new_test['hour'].dt.hour\n",
    "\n",
    "X_test = new_test[feature_names]\n",
    "\n",
    "y = new_train['count']"
   ]
  },
  {
   "cell_type": "code",
   "execution_count": 52,
   "id": "ebce19df",
   "metadata": {
    "ExecuteTime": {
     "end_time": "2022-05-07T23:04:01.030863Z",
     "start_time": "2022-05-07T23:04:01.020072Z"
    }
   },
   "outputs": [],
   "source": [
    "X_train, X_val, y_train, y_val = train_test_split(X, y, test_size=0.3, random_state=42)\n"
   ]
  },
  {
   "cell_type": "code",
   "execution_count": 53,
   "id": "be0a0856",
   "metadata": {
    "ExecuteTime": {
     "end_time": "2022-05-07T23:04:14.688927Z",
     "start_time": "2022-05-07T23:04:14.676140Z"
    }
   },
   "outputs": [],
   "source": [
    "from math import sqrt\n",
    "def RMSLE(y_pred , y_actual):\n",
    "    n = y_pred.size \n",
    "    RMSLE = sqrt(((np.log(y_pred+1)-np.log(y_actual+1))**2).sum()/n)\n",
    "    return RMSLE"
   ]
  },
  {
   "cell_type": "code",
   "execution_count": 54,
   "id": "f77a04cc",
   "metadata": {
    "ExecuteTime": {
     "end_time": "2022-05-07T23:04:24.258178Z",
     "start_time": "2022-05-07T23:04:24.237067Z"
    }
   },
   "outputs": [
    {
     "name": "stdout",
     "output_type": "stream",
     "text": [
      "Train score: 1.1556838542163603\n",
      "validation score: 1.1489094103970603\n"
     ]
    },
    {
     "name": "stderr",
     "output_type": "stream",
     "text": [
      "C:\\Users\\papa\\AppData\\Local\\Temp\\ipykernel_9744\\246071528.py:4: RuntimeWarning: invalid value encountered in log\n",
      "  RMSLE = sqrt(((np.log(y_pred+1)-np.log(y_actual+1))**2).sum()/n)\n"
     ]
    }
   ],
   "source": [
    "lr = LinearRegression().fit(X_train, y_train)\n",
    "\n",
    "train_pred = lr.predict(X_train)\n",
    "val_pred = lr.predict(X_val)\n",
    "\n",
    "train_score = RMSLE(train_pred, y_train)\n",
    "val_score = RMSLE(val_pred ,y_val)\n",
    "\n",
    "print('Train score:', train_score)\n",
    "print('validation score:', val_score)"
   ]
  },
  {
   "cell_type": "code",
   "execution_count": 55,
   "id": "aee57f03",
   "metadata": {
    "ExecuteTime": {
     "end_time": "2022-05-07T23:04:48.126585Z",
     "start_time": "2022-05-07T23:04:48.096470Z"
    }
   },
   "outputs": [
    {
     "name": "stdout",
     "output_type": "stream",
     "text": [
      "                                 OLS Regression Results                                \n",
      "=======================================================================================\n",
      "Dep. Variable:                  count   R-squared (uncentered):                   0.686\n",
      "Model:                            OLS   Adj. R-squared (uncentered):              0.686\n",
      "Method:                 Least Squares   F-statistic:                              2773.\n",
      "Date:                Sat, 03 Dec 2022   Prob (F-statistic):                        0.00\n",
      "Time:                        11:48:35   Log-Likelihood:                         -48879.\n",
      "No. Observations:                7620   AIC:                                  9.777e+04\n",
      "Df Residuals:                    7614   BIC:                                  9.781e+04\n",
      "Df Model:                           6                                                  \n",
      "Covariance Type:            nonrobust                                                  \n",
      "==============================================================================\n",
      "                 coef    std err          t      P>|t|      [0.025      0.975]\n",
      "------------------------------------------------------------------------------\n",
      "year           0.0223      0.005      4.595      0.000       0.013       0.032\n",
      "hour           7.7880      0.257     30.259      0.000       7.283       8.293\n",
      "season        23.2453      1.612     14.420      0.000      20.085      26.405\n",
      "temp           6.7809      0.228     29.784      0.000       6.335       7.227\n",
      "humidity      -2.2645      0.098    -23.162      0.000      -2.456      -2.073\n",
      "windspeed      0.1178      0.219      0.538      0.591      -0.312       0.547\n",
      "==============================================================================\n",
      "Omnibus:                     1832.708   Durbin-Watson:                   2.006\n",
      "Prob(Omnibus):                  0.000   Jarque-Bera (JB):             4097.602\n",
      "Skew:                           1.372   Prob(JB):                         0.00\n",
      "Kurtosis:                       5.318   Cond. No.                     1.92e+03\n",
      "==============================================================================\n",
      "\n",
      "Notes:\n",
      "[1] R² is computed without centering (uncentered) since the model does not contain a constant.\n",
      "[2] Standard Errors assume that the covariance matrix of the errors is correctly specified.\n",
      "[3] The condition number is large, 1.92e+03. This might indicate that there are\n",
      "strong multicollinearity or other numerical problems.\n"
     ]
    }
   ],
   "source": [
    "mod = sm.OLS(y_train, X_train)\n",
    "\n",
    "res = mod.fit()\n",
    "\n",
    "print(res.summary())"
   ]
  }
 ],
 "metadata": {
  "kernelspec": {
   "display_name": "Python 3 (ipykernel)",
   "language": "python",
   "name": "python3"
  },
  "language_info": {
   "codemirror_mode": {
    "name": "ipython",
    "version": 3
   },
   "file_extension": ".py",
   "mimetype": "text/x-python",
   "name": "python",
   "nbconvert_exporter": "python",
   "pygments_lexer": "ipython3",
   "version": "3.9.12"
  }
 },
 "nbformat": 4,
 "nbformat_minor": 5
}
